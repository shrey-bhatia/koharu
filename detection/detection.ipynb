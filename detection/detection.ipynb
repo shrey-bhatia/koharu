{
 "cells": [
  {
   "cell_type": "markdown",
   "id": "f9d8865f",
   "metadata": {},
   "source": [
    "## Preparing datasets"
   ]
  },
  {
   "cell_type": "code",
   "execution_count": null,
   "id": "28b20dfc",
   "metadata": {},
   "outputs": [],
   "source": [
    "!git clone https://github.com/mayocream/koharu\n",
    "\n",
    "%cd koharu"
   ]
  },
  {
   "cell_type": "code",
   "execution_count": null,
   "id": "bd989785",
   "metadata": {},
   "outputs": [],
   "source": [
    "\n",
    "%pip install gdown\n",
    "%pip install --upgrade gdown\n",
    "\n",
    "!gdown 1JHpeeBY37E4GWwp3k6T1DSXrN6EOX6QU\n",
    "!unzip *.zip\n",
    "!mv Manga109* data/\n",
    "!rm *.zip"
   ]
  },
  {
   "cell_type": "markdown",
   "id": "45d122ce",
   "metadata": {},
   "source": [
    "## Converting datasets to YOLO format"
   ]
  },
  {
   "cell_type": "code",
   "execution_count": null,
   "id": "67a4f79a",
   "metadata": {},
   "outputs": [],
   "source": [
    "!python scripts/manga109_yolo.py --manga109_dir data/Manga109_released_2021_12_30 --output_dir data/manga109_yolo"
   ]
  },
  {
   "cell_type": "markdown",
   "id": "28708686",
   "metadata": {},
   "source": [
    "## Training"
   ]
  },
  {
   "cell_type": "code",
   "execution_count": null,
   "id": "dd1d4164",
   "metadata": {},
   "outputs": [],
   "source": [
    "%pip install ultralytics"
   ]
  },
  {
   "cell_type": "code",
   "execution_count": null,
   "id": "9eb3b0c2",
   "metadata": {},
   "outputs": [],
   "source": [
    "from ultralytics import YOLO\n",
    "\n",
    "model = YOLO('yolov8n.pt')  # load a pretrained model (recommended for training)\n",
    "model.train(data='../data/manga109_yolo/manga109.yaml', epochs=100, batch=128, verbose=True)"
   ]
  },
  {
   "cell_type": "markdown",
   "id": "21f42961",
   "metadata": {},
   "source": [
    "## Validating"
   ]
  },
  {
   "cell_type": "code",
   "execution_count": null,
   "id": "9fc3c02a",
   "metadata": {},
   "outputs": [],
   "source": [
    "from ultralytics import YOLO\n",
    "\n",
    "model = YOLO('runs/train/weights/best.pt')  # load a custom model\n",
    "model.predict(source='../data/bluearchive_comics/2.jpg', save=True, save_txt=True, conf=0.5, show=True)"
   ]
  }
 ],
 "metadata": {
  "kernelspec": {
   "display_name": ".venv",
   "language": "python",
   "name": "python3"
  },
  "language_info": {
   "codemirror_mode": {
    "name": "ipython",
    "version": 3
   },
   "file_extension": ".py",
   "mimetype": "text/x-python",
   "name": "python",
   "nbconvert_exporter": "python",
   "pygments_lexer": "ipython3",
   "version": "3.12.10"
  }
 },
 "nbformat": 4,
 "nbformat_minor": 5
}
